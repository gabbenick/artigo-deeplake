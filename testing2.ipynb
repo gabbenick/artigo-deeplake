{
 "cells": [
  {
   "cell_type": "code",
   "execution_count": 13,
   "id": "1db8e65a",
   "metadata": {},
   "outputs": [
    {
     "name": "stdout",
     "output_type": "stream",
     "text": [
      "Original dataset: /home/gabbe/projetos/artigo-erbase/db/SHdataset_12k\n",
      "Deep Lake dataset: /home/gabbe/projetos/artigo-erbase/dl_datasets/shdataset_12k\n"
     ]
    }
   ],
   "source": [
    "import os\n",
    "import time\n",
    "import random\n",
    "import glob\n",
    "import matplotlib.pyplot as plt\n",
    "import numpy as np\n",
    "from PIL import Image # Using Pillow for image loading\n",
    "import deeplake\n",
    "from tqdm.notebook import tqdm # For progress bars in notebook\n",
    "\n",
    "# --- Configuration ---\n",
    "# Adjust these paths to match your project structure\n",
    "# PROJECT_ROOT = \"/home/gabbe/projetos/artigo-erbase\" # Define your project root\n",
    "\n",
    "# ORIGINAL_DATASET_ROOT = os.path.join(PROJECT_ROOT, \"db/SHdataset_12k\")\n",
    "# DEEPLAKE_DATASET_PATH = os.path.join(PROJECT_ROOT, \"dl_datasets/shdataset_12k_empty_png_storage\")\n",
    "\n",
    "ORIGINAL_DATASET_ROOT = \"db/SHdataset_12k\"\n",
    "DEEPLAKE_DATASET_PATH = \"dl_datasets/shdataset_12k\"\n",
    "\n",
    "\n",
    "# Benchmark Parameters\n",
    "NUM_REPETITIONS = 3       # How many times to repeat each benchmark for averaging\n",
    "NUM_SINGLE_READS = 100    # How many random single images to read for that benchmark\n",
    "ITERATION_SUBSET_SIZE = 500 # How many images to iterate over for the subset benchmark\n",
    "\n",
    "# --- Sanity check paths ---\n",
    "if not os.path.exists(ORIGINAL_DATASET_ROOT):\n",
    "    raise FileNotFoundError(f\"Original dataset path not found: {os.path.abspath(ORIGINAL_DATASET_ROOT)}\")\n",
    "if not os.path.exists(DEEPLAKE_DATASET_PATH):\n",
    "    raise FileNotFoundError(f\"Deep Lake dataset path not found: {os.path.abspath(DEEPLAKE_DATASET_PATH)}. Ensure it's populated.\")\n",
    "\n",
    "print(f\"Original dataset: {os.path.abspath(ORIGINAL_DATASET_ROOT)}\")\n",
    "print(f\"Deep Lake dataset: {os.path.abspath(DEEPLAKE_DATASET_PATH)}\")"
   ]
  },
  {
   "cell_type": "code",
   "execution_count": 14,
   "id": "31cd57f2",
   "metadata": {},
   "outputs": [
    {
     "name": "stdout",
     "output_type": "stream",
     "text": [
      "Found 12051 image-mask pairs in original dataset.\n",
      "Total samples for benchmarking: 12051\n",
      "Number of single reads per repetition: 100\n",
      "Subset iteration size: 500\n"
     ]
    }
   ],
   "source": [
    "def get_original_file_list(dataset_root):\n",
    "    \"\"\"\n",
    "    Scans the original dataset structure and returns a sorted list of\n",
    "    (image_path, mask_path, split_name, original_image_filename) tuples.\n",
    "    The sorting ensures a consistent order.\n",
    "    \"\"\"\n",
    "    file_list = []\n",
    "    for split in [\"train\", \"test\"]:\n",
    "        image_folder = os.path.join(dataset_root, split, \"images\")\n",
    "        mask_folder = os.path.join(dataset_root, split, \"masks\")\n",
    "        \n",
    "        if not os.path.isdir(image_folder):\n",
    "            print(f\"Warning: Image folder not found for split {split}: {image_folder}\")\n",
    "            continue\n",
    "\n",
    "        # Sort image filenames to ensure consistent order\n",
    "        # Adjust glob pattern if needed (e.g., '*.png' if only PNGs)\n",
    "        image_paths = sorted(glob.glob(os.path.join(image_folder, \"*.*\")))\n",
    "        \n",
    "        for img_path in image_paths:\n",
    "            img_filename_base = os.path.splitext(os.path.basename(img_path))[0]\n",
    "            original_img_filename = os.path.basename(img_path)\n",
    "            \n",
    "            # Find corresponding mask (simplified from previous scripts)\n",
    "            # This assumes mask has same base name and a common image extension\n",
    "            found_mask_path = None\n",
    "            for ext in ['.png', '.jpg', '.jpeg', '.bmp']: # Add more mask extensions if needed\n",
    "                potential_mask_path = os.path.join(mask_folder, img_filename_base + ext)\n",
    "                if os.path.exists(potential_mask_path):\n",
    "                    found_mask_path = potential_mask_path\n",
    "                    break\n",
    "            \n",
    "            if found_mask_path:\n",
    "                file_list.append((img_path, found_mask_path, split, original_img_filename))\n",
    "            else:\n",
    "                print(f\"Warning: No mask found for {img_path}\")\n",
    "                \n",
    "    print(f\"Found {len(file_list)} image-mask pairs in original dataset.\")\n",
    "    return file_list\n",
    "\n",
    "original_files = get_original_file_list(ORIGINAL_DATASET_ROOT)\n",
    "TOTAL_SAMPLES = len(original_files)\n",
    "\n",
    "if TOTAL_SAMPLES == 0:\n",
    "    raise ValueError(\"No files found in the original dataset. Check paths and structure.\")\n",
    "\n",
    "# Load Deep Lake dataset once\n",
    "ds_deeplake = deeplake.open(DEEPLAKE_DATASET_PATH) # Open in read-only mode\n",
    "if len(ds_deeplake) != TOTAL_SAMPLES:\n",
    "    print(f\"Warning: Mismatch in sample count! Original: {TOTAL_SAMPLES}, Deep Lake: {len(ds_deeplake)}\")\n",
    "    # This could indicate an issue with ingestion or the original file scan.\n",
    "    # Benchmarks might still run but ensure this is understood.\n",
    "    # You might want to cap TOTAL_SAMPLES for benchmarks to min(TOTAL_SAMPLES, len(ds_deeplake))\n",
    "\n",
    "# Adjust NUM_SINGLE_READS and ITERATION_SUBSET_SIZE if they are too large for the dataset\n",
    "NUM_SINGLE_READS = min(NUM_SINGLE_READS, TOTAL_SAMPLES)\n",
    "ITERATION_SUBSET_SIZE = min(ITERATION_SUBSET_SIZE, TOTAL_SAMPLES)\n",
    "\n",
    "print(f\"Total samples for benchmarking: {TOTAL_SAMPLES}\")\n",
    "print(f\"Number of single reads per repetition: {NUM_SINGLE_READS}\")\n",
    "print(f\"Subset iteration size: {ITERATION_SUBSET_SIZE}\")"
   ]
  },
  {
   "cell_type": "code",
   "execution_count": 15,
   "id": "cc257b5e",
   "metadata": {},
   "outputs": [],
   "source": [
    "def time_operation(func, *args, **kwargs):\n",
    "    \"\"\"Times a single function call.\"\"\"\n",
    "    start_time = time.perf_counter()\n",
    "    func(*args, **kwargs)\n",
    "    end_time = time.perf_counter()\n",
    "    return (end_time - start_time) * 1000  # Return time in milliseconds\n",
    "\n",
    "# --- Functions to load data (these are the core operations we time) ---\n",
    "def load_original_sample_data(img_path, mask_path):\n",
    "    try:\n",
    "        img = Image.open(img_path)\n",
    "        mask = Image.open(mask_path)\n",
    "        # To make it somewhat comparable to .numpy(), convert to numpy array\n",
    "        img_np = np.array(img)\n",
    "        mask_np = np.array(mask)\n",
    "        return img_np, mask_np\n",
    "    except Exception as e:\n",
    "        print(f\"Error loading original sample {img_path}: {e}\")\n",
    "        return None, None\n",
    "\n",
    "def load_deeplake_sample_data(ds, index):\n",
    "    try:\n",
    "        # The access pattern ds[\"column_name\"][index] directly returns the numpy array\n",
    "        img_np = ds[\"images\"][index]\n",
    "        mask_np = ds[\"masks\"][index]\n",
    "        return img_np, mask_np\n",
    "    except Exception as e:\n",
    "        print(f\"Error loading Deep Lake sample at index {index}: {e}\")\n",
    "        return None, None\n",
    "\n",
    "# --- Benchmark 1: Single Random Reads ---\n",
    "def benchmark_single_reads(original_file_list, ds_dl, num_reads, repetitions):\n",
    "    print(f\"\\nBenchmarking Single Random Reads ({num_reads} reads, {repetitions} reps)...\")\n",
    "    original_times = []\n",
    "    deeplake_times = []\n",
    "\n",
    "    # Generate a fixed set of random indices for fair comparison across repetitions\n",
    "    if num_reads > len(original_file_list): # Safety check\n",
    "        print(f\"Warning: num_reads ({num_reads}) > total samples ({len(original_file_list)}). Clamping num_reads.\")\n",
    "        num_reads = len(original_file_list)\n",
    "    \n",
    "    random_indices = [random.randint(0, len(original_file_list) - 1) for _ in range(num_reads)]\n",
    "\n",
    "    for rep in range(repetitions):\n",
    "        # Original Dataset\n",
    "        total_time_orig = 0\n",
    "        for i in tqdm(random_indices, desc=f\"Original Single Reads (Rep {rep+1}/{repetitions})\", leave=False):\n",
    "            img_path, mask_path, _, _ = original_file_list[i]\n",
    "            total_time_orig += time_operation(load_original_sample_data, img_path, mask_path)\n",
    "        original_times.append(total_time_orig / num_reads) # Average time per sample\n",
    "\n",
    "        # Deep Lake Dataset\n",
    "        total_time_dl = 0\n",
    "        for i in tqdm(random_indices, desc=f\"Deep Lake Single Reads (Rep {rep+1}/{repetitions})\", leave=False):\n",
    "            total_time_dl += time_operation(load_deeplake_sample_data, ds_dl, i)\n",
    "        deeplake_times.append(total_time_dl / num_reads) # Average time per sample\n",
    "        \n",
    "    return {\"original_avg_ms\": np.mean(original_times), \"deeplake_avg_ms\": np.mean(deeplake_times),\n",
    "            \"original_std_ms\": np.std(original_times), \"deeplake_std_ms\": np.std(deeplake_times)}\n",
    "\n",
    "\n",
    "# --- Benchmark 2: Iteration (Subset or Full) ---\n",
    "def benchmark_iteration(original_file_list, ds_dl, num_to_iterate, repetitions, is_full_iteration=False):\n",
    "    title = \"Full Dataset\" if is_full_iteration else f\"Subset ({num_to_iterate} samples)\"\n",
    "    print(f\"\\nBenchmarking Iteration ({title}, {repetitions} reps)...\")\n",
    "    \n",
    "    original_total_times = []\n",
    "    deeplake_total_times = []\n",
    "\n",
    "    indices_to_iterate = list(range(num_to_iterate))\n",
    "\n",
    "    for rep in range(repetitions):\n",
    "        # Original Dataset\n",
    "        iter_time_orig = 0\n",
    "        for i in tqdm(indices_to_iterate, desc=f\"Original Iteration (Rep {rep+1}/{repetitions})\", leave=False):\n",
    "            img_path, mask_path, _, _ = original_file_list[i]\n",
    "            iter_time_orig += time_operation(load_original_sample_data, img_path, mask_path)\n",
    "        original_total_times.append(iter_time_orig)\n",
    "\n",
    "        # Deep Lake Dataset\n",
    "        iter_time_dl = 0\n",
    "        for i in tqdm(indices_to_iterate, desc=f\"Deep Lake Iteration (Rep {rep+1}/{repetitions})\", leave=False):\n",
    "            iter_time_dl += time_operation(load_deeplake_sample_data, ds_dl, i)\n",
    "        deeplake_total_times.append(iter_time_dl)\n",
    "        \n",
    "    return {\n",
    "        \"original_avg_total_ms\": np.mean(original_total_times), \n",
    "        \"deeplake_avg_total_ms\": np.mean(deeplake_total_times),\n",
    "        \"original_std_total_ms\": np.std(original_total_times), \n",
    "        \"deeplake_std_total_ms\": np.std(deeplake_total_times),\n",
    "        \"samples_iterated\": num_to_iterate\n",
    "    }"
   ]
  },
  {
   "cell_type": "code",
   "execution_count": 16,
   "id": "39511af6",
   "metadata": {},
   "outputs": [
    {
     "data": {
      "text/plain": [
       "' benchmark_results = {}\\n\\n# Run Single Read Benchmark\\nresults_single = benchmark_single_reads(original_files, ds_deeplake, NUM_SINGLE_READS, NUM_REPETITIONS)\\nbenchmark_results[\"single_read_avg_per_sample_ms\"] = results_single\\nprint(f\"Single Read Avg (per sample): Original={results_single[\\'original_avg_ms\\']:.2f}ms, DeepLake={results_single[\\'deeplake_avg_ms\\']:.2f}ms\")\\n\\n# Run Subset Iteration Benchmark\\nresults_subset = benchmark_iteration(original_files, ds_deeplake, ITERATION_SUBSET_SIZE, NUM_REPETITIONS)\\nbenchmark_results[\"subset_iteration_total_ms\"] = results_subset\\nprint(f\"Subset Iteration ({ITERATION_SUBSET_SIZE} samples) Avg Total Time: Original={results_subset[\\'original_avg_total_ms\\']:.2f}ms, DeepLake={results_subset[\\'deeplake_avg_total_ms\\']:.2f}ms\")\\n\\n# Run Full Dataset Iteration Benchmark\\nresults_full = benchmark_iteration(original_files, ds_deeplake, TOTAL_SAMPLES, NUM_REPETITIONS, is_full_iteration=True)\\nbenchmark_results[\"full_iteration_total_ms\"] = results_full\\nprint(f\"Full Iteration ({TOTAL_SAMPLES} samples) Avg Total Time: Original={results_full[\\'original_avg_total_ms\\']:.2f}ms, DeepLake={results_full[\\'deeplake_avg_total_ms\\']:.2f}ms\") '"
      ]
     },
     "execution_count": 16,
     "metadata": {},
     "output_type": "execute_result"
    }
   ],
   "source": [
    "\"\"\" benchmark_results = {}\n",
    "\n",
    "# Run Single Read Benchmark\n",
    "results_single = benchmark_single_reads(original_files, ds_deeplake, NUM_SINGLE_READS, NUM_REPETITIONS)\n",
    "benchmark_results[\"single_read_avg_per_sample_ms\"] = results_single\n",
    "print(f\"Single Read Avg (per sample): Original={results_single['original_avg_ms']:.2f}ms, DeepLake={results_single['deeplake_avg_ms']:.2f}ms\")\n",
    "\n",
    "# Run Subset Iteration Benchmark\n",
    "results_subset = benchmark_iteration(original_files, ds_deeplake, ITERATION_SUBSET_SIZE, NUM_REPETITIONS)\n",
    "benchmark_results[\"subset_iteration_total_ms\"] = results_subset\n",
    "print(f\"Subset Iteration ({ITERATION_SUBSET_SIZE} samples) Avg Total Time: Original={results_subset['original_avg_total_ms']:.2f}ms, DeepLake={results_subset['deeplake_avg_total_ms']:.2f}ms\")\n",
    "\n",
    "# Run Full Dataset Iteration Benchmark\n",
    "results_full = benchmark_iteration(original_files, ds_deeplake, TOTAL_SAMPLES, NUM_REPETITIONS, is_full_iteration=True)\n",
    "benchmark_results[\"full_iteration_total_ms\"] = results_full\n",
    "print(f\"Full Iteration ({TOTAL_SAMPLES} samples) Avg Total Time: Original={results_full['original_avg_total_ms']:.2f}ms, DeepLake={results_full['deeplake_avg_total_ms']:.2f}ms\") \"\"\""
   ]
  },
  {
   "cell_type": "code",
   "execution_count": 17,
   "id": "5f24a7cb",
   "metadata": {},
   "outputs": [],
   "source": [
    "import time\n",
    "import numpy as np\n",
    "from tqdm.notebook import tqdm # ou from tqdm import tqdm\n",
    "\n",
    "# Supondo que suas funções time_operation, load_original_sample_data, load_deeplake_sample_data\n",
    "# já estejam definidas.\n",
    "\n",
    "def benchmark_iteration_modificada(\n",
    "    original_file_list, \n",
    "    ds_dl, \n",
    "    num_to_iterate, \n",
    "    repetitions, \n",
    "    is_full_iteration=False,\n",
    "    run_original=True,  # Novo: para controlar se roda o teste PNG\n",
    "    run_deeplake=True   # Novo: para controlar se roda o teste Deep Lake\n",
    "):\n",
    "    title = \"Full Dataset\" if is_full_iteration else f\"Subset ({num_to_iterate} samples)\"\n",
    "    # Ajusta o título para refletir o que está sendo testado\n",
    "    test_type_title = []\n",
    "    if run_original:\n",
    "        test_type_title.append(\"Original PNG\")\n",
    "    if run_deeplake:\n",
    "        test_type_title.append(\"Deep Lake\")\n",
    "    print(f\"\\nBenchmarking Iteration for {', '.join(test_type_title)} ({title}, {repetitions} reps)...\")\n",
    "    \n",
    "    # Listas para armazenar o tempo total de CADA repetição\n",
    "    original_all_rep_times = [] \n",
    "    deeplake_all_rep_times = []\n",
    "\n",
    "    # Garante que num_to_iterate não exceda os tamanhos dos datasets\n",
    "    actual_num_to_iterate_orig = 0\n",
    "    if original_file_list and run_original:\n",
    "        actual_num_to_iterate_orig = min(num_to_iterate, len(original_file_list))\n",
    "    \n",
    "    actual_num_to_iterate_dl = 0\n",
    "    if ds_dl and run_deeplake:\n",
    "        actual_num_to_iterate_dl = min(num_to_iterate, len(ds_dl))\n",
    "        \n",
    "    if run_original and not original_file_list :\n",
    "        print(\"Warning: original_file_list is None, skipping original dataset benchmarks.\")\n",
    "        run_original = False\n",
    "    if run_deeplake and not ds_dl :\n",
    "        print(\"Warning: ds_dl is None, skipping deeplake dataset benchmarks.\")\n",
    "        run_deeplake = False\n",
    "\n",
    "    for rep in range(repetitions):\n",
    "        if run_original and actual_num_to_iterate_orig > 0:\n",
    "            iter_time_orig_total_rep = 0\n",
    "            indices_to_iterate_orig = list(range(actual_num_to_iterate_orig))\n",
    "            for i in tqdm(indices_to_iterate_orig, desc=f\"Original Iteration (Rep {rep+1}/{repetitions})\", leave=False):\n",
    "                img_path, mask_path, _, _ = original_file_list[i]\n",
    "                # Se você só quer testar imagens, certifique-se que load_original_sample_data lida com mask_path=None\n",
    "                # ou passe um placeholder para mask_path se a função exigir.\n",
    "                iter_time_orig_total_rep += time_operation(load_original_sample_data, img_path, mask_path) \n",
    "            original_all_rep_times.append(iter_time_orig_total_rep)\n",
    "\n",
    "        if run_deeplake and actual_num_to_iterate_dl > 0:\n",
    "            # Este bloco só roda se run_deeplake for True\n",
    "            # Não haverá problema de cache do PNG desta mesma repetição afetando o Deep Lake\n",
    "            # se você chamar a função com run_original=False e run_deeplake=True (e vice-versa).\n",
    "            iter_time_dl_total_rep = 0\n",
    "            indices_to_iterate_dl = list(range(actual_num_to_iterate_dl))\n",
    "            for i in tqdm(indices_to_iterate_dl, desc=f\"Deep Lake Iteration (Rep {rep+1}/{repetitions})\", leave=False):\n",
    "                iter_time_dl_total_rep += time_operation(load_deeplake_sample_data, ds_dl, i)\n",
    "            deeplake_all_rep_times.append(iter_time_dl_total_rep)\n",
    "            \n",
    "    results = {}\n",
    "    if run_original:\n",
    "        results[\"original_all_rep_times_ms\"] = original_all_rep_times\n",
    "        results[\"original_avg_total_ms\"] = np.mean(original_all_rep_times) if original_all_rep_times else 0\n",
    "        results[\"original_std_total_ms\"] = np.std(original_all_rep_times) if original_all_rep_times else 0\n",
    "        results[\"samples_iterated_original\"] = actual_num_to_iterate_orig\n",
    "        \n",
    "    if run_deeplake:\n",
    "        results[\"deeplake_all_rep_times_ms\"] = deeplake_all_rep_times\n",
    "        results[\"deeplake_avg_total_ms\"] = np.mean(deeplake_all_rep_times) if deeplake_all_rep_times else 0\n",
    "        results[\"deeplake_std_total_ms\"] = np.std(deeplake_all_rep_times) if deeplake_all_rep_times else 0\n",
    "        results[\"samples_iterated_deeplake\"] = actual_num_to_iterate_dl\n",
    "        \n",
    "    return results"
   ]
  },
  {
   "cell_type": "code",
   "execution_count": null,
   "id": "f5287c2e",
   "metadata": {},
   "outputs": [
    {
     "name": "stdout",
     "output_type": "stream",
     "text": [
      "==================================================\n",
      "INICIANDO BLOCO DE TESTES PARA O DATASET ORIGINAL (PNG)\n",
      "==================================================\n",
      "\n",
      "Benchmarking Iteration for Original PNG (Full Dataset, 10 reps)...\n"
     ]
    },
    {
     "data": {
      "application/vnd.jupyter.widget-view+json": {
       "model_id": "904aadae11154a4584d5172442fb2d95",
       "version_major": 2,
       "version_minor": 0
      },
      "text/plain": [
       "Original Iteration (Rep 1/10):   0%|          | 0/12051 [00:00<?, ?it/s]"
      ]
     },
     "metadata": {},
     "output_type": "display_data"
    },
    {
     "data": {
      "application/vnd.jupyter.widget-view+json": {
       "model_id": "4aa337008222449f824b0e81f4dd693d",
       "version_major": 2,
       "version_minor": 0
      },
      "text/plain": [
       "Original Iteration (Rep 2/10):   0%|          | 0/12051 [00:00<?, ?it/s]"
      ]
     },
     "metadata": {},
     "output_type": "display_data"
    },
    {
     "data": {
      "application/vnd.jupyter.widget-view+json": {
       "model_id": "d5f307f53d9443e4bb9e1d9420ffed9e",
       "version_major": 2,
       "version_minor": 0
      },
      "text/plain": [
       "Original Iteration (Rep 3/10):   0%|          | 0/12051 [00:00<?, ?it/s]"
      ]
     },
     "metadata": {},
     "output_type": "display_data"
    },
    {
     "data": {
      "application/vnd.jupyter.widget-view+json": {
       "model_id": "0b4af7c017d743f2a7fadeddfc1bf1c8",
       "version_major": 2,
       "version_minor": 0
      },
      "text/plain": [
       "Original Iteration (Rep 4/10):   0%|          | 0/12051 [00:00<?, ?it/s]"
      ]
     },
     "metadata": {},
     "output_type": "display_data"
    },
    {
     "data": {
      "application/vnd.jupyter.widget-view+json": {
       "model_id": "0b83725ce2fe47f78d2fba186e612f6b",
       "version_major": 2,
       "version_minor": 0
      },
      "text/plain": [
       "Original Iteration (Rep 5/10):   0%|          | 0/12051 [00:00<?, ?it/s]"
      ]
     },
     "metadata": {},
     "output_type": "display_data"
    },
    {
     "data": {
      "application/vnd.jupyter.widget-view+json": {
       "model_id": "71710aa737ff433ea11a38391b6be089",
       "version_major": 2,
       "version_minor": 0
      },
      "text/plain": [
       "Original Iteration (Rep 6/10):   0%|          | 0/12051 [00:00<?, ?it/s]"
      ]
     },
     "metadata": {},
     "output_type": "display_data"
    },
    {
     "data": {
      "application/vnd.jupyter.widget-view+json": {
       "model_id": "30cf66579010461a9ef20eee4965e93d",
       "version_major": 2,
       "version_minor": 0
      },
      "text/plain": [
       "Original Iteration (Rep 7/10):   0%|          | 0/12051 [00:00<?, ?it/s]"
      ]
     },
     "metadata": {},
     "output_type": "display_data"
    },
    {
     "data": {
      "application/vnd.jupyter.widget-view+json": {
       "model_id": "c3ec54a3590841c086d06b85adf77cfb",
       "version_major": 2,
       "version_minor": 0
      },
      "text/plain": [
       "Original Iteration (Rep 8/10):   0%|          | 0/12051 [00:00<?, ?it/s]"
      ]
     },
     "metadata": {},
     "output_type": "display_data"
    },
    {
     "data": {
      "application/vnd.jupyter.widget-view+json": {
       "model_id": "52ac10a401214972afe4ef45f3cfda65",
       "version_major": 2,
       "version_minor": 0
      },
      "text/plain": [
       "Original Iteration (Rep 9/10):   0%|          | 0/12051 [00:00<?, ?it/s]"
      ]
     },
     "metadata": {},
     "output_type": "display_data"
    },
    {
     "data": {
      "application/vnd.jupyter.widget-view+json": {
       "model_id": "2c5d28f3178d4385ac381efbe9b8d27b",
       "version_major": 2,
       "version_minor": 0
      },
      "text/plain": [
       "Original Iteration (Rep 10/10):   0%|          | 0/12051 [00:00<?, ?it/s]"
      ]
     },
     "metadata": {},
     "output_type": "display_data"
    },
    {
     "name": "stdout",
     "output_type": "stream",
     "text": [
      "\n",
      "Tempos de cada repetição para PNG (ms): [506644.4350730036, 517984.0114820098, 497241.34354599664, 496615.7462689769, 500966.9968290217, 500587.6218389949, 507654.5948990275, 500659.40612203756, 508452.09378791, 520210.32605802285]\n",
      "PNG - Corrida 1 (Fria): 506644.44 ms\n",
      "PNG - Média Cache Quente (9 reps): 505596.90 ms (± 8170.16 ms)\n",
      "\n",
      "==================================================\n",
      "INICIANDO BLOCO DE TESTES PARA O DATASET DEEP LAKE\n",
      "==================================================\n",
      "\n",
      "Benchmarking Iteration for Deep Lake (Full Dataset, 10 reps)...\n"
     ]
    },
    {
     "data": {
      "application/vnd.jupyter.widget-view+json": {
       "model_id": "db94dc96344d4fa38fa40f7eba49dc79",
       "version_major": 2,
       "version_minor": 0
      },
      "text/plain": [
       "Deep Lake Iteration (Rep 1/10):   0%|          | 0/12051 [00:00<?, ?it/s]"
      ]
     },
     "metadata": {},
     "output_type": "display_data"
    },
    {
     "data": {
      "application/vnd.jupyter.widget-view+json": {
       "model_id": "39a63d768d274532be7a5b43e1f33e2d",
       "version_major": 2,
       "version_minor": 0
      },
      "text/plain": [
       "Deep Lake Iteration (Rep 2/10):   0%|          | 0/12051 [00:00<?, ?it/s]"
      ]
     },
     "metadata": {},
     "output_type": "display_data"
    },
    {
     "data": {
      "application/vnd.jupyter.widget-view+json": {
       "model_id": "540d44598b734640b79a93d7624710f3",
       "version_major": 2,
       "version_minor": 0
      },
      "text/plain": [
       "Deep Lake Iteration (Rep 3/10):   0%|          | 0/12051 [00:00<?, ?it/s]"
      ]
     },
     "metadata": {},
     "output_type": "display_data"
    },
    {
     "data": {
      "application/vnd.jupyter.widget-view+json": {
       "model_id": "2e87ad05812846848e78499a0d7deeb7",
       "version_major": 2,
       "version_minor": 0
      },
      "text/plain": [
       "Deep Lake Iteration (Rep 4/10):   0%|          | 0/12051 [00:00<?, ?it/s]"
      ]
     },
     "metadata": {},
     "output_type": "display_data"
    },
    {
     "data": {
      "application/vnd.jupyter.widget-view+json": {
       "model_id": "d746e381d668467da2666c24910b7db3",
       "version_major": 2,
       "version_minor": 0
      },
      "text/plain": [
       "Deep Lake Iteration (Rep 5/10):   0%|          | 0/12051 [00:00<?, ?it/s]"
      ]
     },
     "metadata": {},
     "output_type": "display_data"
    },
    {
     "data": {
      "application/vnd.jupyter.widget-view+json": {
       "model_id": "6ad78ee940d04b7fa5eae5413267cb4b",
       "version_major": 2,
       "version_minor": 0
      },
      "text/plain": [
       "Deep Lake Iteration (Rep 6/10):   0%|          | 0/12051 [00:00<?, ?it/s]"
      ]
     },
     "metadata": {},
     "output_type": "display_data"
    },
    {
     "data": {
      "application/vnd.jupyter.widget-view+json": {
       "model_id": "2101752002664aea88b8c69e0efd11b5",
       "version_major": 2,
       "version_minor": 0
      },
      "text/plain": [
       "Deep Lake Iteration (Rep 7/10):   0%|          | 0/12051 [00:00<?, ?it/s]"
      ]
     },
     "metadata": {},
     "output_type": "display_data"
    },
    {
     "data": {
      "application/vnd.jupyter.widget-view+json": {
       "model_id": "a1b61b82ceed4040971c41714ba65b92",
       "version_major": 2,
       "version_minor": 0
      },
      "text/plain": [
       "Deep Lake Iteration (Rep 8/10):   0%|          | 0/12051 [00:00<?, ?it/s]"
      ]
     },
     "metadata": {},
     "output_type": "display_data"
    },
    {
     "data": {
      "application/vnd.jupyter.widget-view+json": {
       "model_id": "a399a4ac5eca49c6b22e601a5606cda6",
       "version_major": 2,
       "version_minor": 0
      },
      "text/plain": [
       "Deep Lake Iteration (Rep 9/10):   0%|          | 0/12051 [00:00<?, ?it/s]"
      ]
     },
     "metadata": {},
     "output_type": "display_data"
    },
    {
     "data": {
      "application/vnd.jupyter.widget-view+json": {
       "model_id": "de65561a8e5f48dea2f5148a8802d06d",
       "version_major": 2,
       "version_minor": 0
      },
      "text/plain": [
       "Deep Lake Iteration (Rep 10/10):   0%|          | 0/12051 [00:00<?, ?it/s]"
      ]
     },
     "metadata": {},
     "output_type": "display_data"
    },
    {
     "name": "stdout",
     "output_type": "stream",
     "text": [
      "\n",
      "Tempos de cada repetição para Deep Lake (ms): [457695.6771598839, 453793.67538088537, 454059.04951177177, 454786.44022004434, 455423.43715006625, 454902.2553181168, 454964.05759602087, 455802.59222531354, 456724.3069069501, 456994.36170174286]\n",
      "Deep Lake - Corrida 1 (Cache SO Frio): 457695.68 ms\n",
      "Deep Lake - Média Cache Quente (9 reps): 455272.24 ms (± 1027.63 ms)\n",
      "\n",
      "==================================================\n",
      "SALVANDO RESULTADOS PROCESSADOS EM ARQUIVO CSV\n",
      "==================================================\n",
      "Resultados agregados salvos com sucesso em: /home/gabbe/projetos/artigo-erbase/benchmark_resultados_agregados.csv\n"
     ]
    }
   ],
   "source": [
    "import time # Necessário para benchmark_iteration_modificada e time_operation\n",
    "import numpy as np # Necessário para np.mean e np.std\n",
    "from tqdm.notebook import tqdm # ou from tqdm import tqdm\n",
    "import csv # Módulo para trabalhar com CSV\n",
    "import os # Para utilidades do sistema operacional, como verificar se arquivo existe\n",
    "\n",
    "# (Certifique-se de que a definição da sua função benchmark_iteration_modificada está aqui ou importada)\n",
    "# (Certifique-se de que suas funções load_original_sample_data, load_deeplake_sample_data e time_operation estão definidas)\n",
    "  \n",
    "# Parâmetro para nossa estratégia de 5 repetições\n",
    "NUM_REPETITIONS_ESTRATEGIA = 10\n",
    "TOTAL_SAMPLES = 12051 # Ou len(original_files) se original_files já estiver carregada e formatada\n",
    "\n",
    "# Dicionário para guardar os resultados processados finais\n",
    "benchmark_resultados_processados = {}\n",
    "\n",
    "# --- 1. CARREGUE SUAS VARIÁVEIS 'original_files' e 'ds_deeplake' AQUI ---\n",
    "# Esta parte é crucial e depende de como você está carregando seus dados.\n",
    "# Certifique-se que 'original_files' e 'ds_deeplake' estão corretamente populadas antes dos benchmarks.\n",
    "# Exemplo (você precisa adaptar ao seu código real de carregamento de dados):\n",
    "# print(\"Carregando lista de arquivos PNG...\")\n",
    "# all_png_image_paths = [] # Sua lógica para obter todos os caminhos de imagem .png\n",
    "# # ... seu código para popular all_png_image_paths ...\n",
    "# # Supondo que 'load_original_sample_data' espera (img_path, mask_path), mesmo que mask_path seja None\n",
    "# original_files = [(img_path, None, None, None) for img_path in all_png_image_paths] \n",
    "# print(f\"Carregados {len(original_files)} arquivos para 'original_files'\")\n",
    "\n",
    "# print(\"Carregando dataset Deep Lake...\")\n",
    "# import deeplake\n",
    "# DEEPLAKE_DATASET_PATH = \"dl_datasets/shdataset_12k\" # Ajuste se necessário\n",
    "# if os.path.exists(DEEPLAKE_DATASET_PATH):\n",
    "#     ds_deeplake = deeplake.load(DEEPLAKE_DATASET_PATH, read_only=True)\n",
    "#     print(f\"Dataset Deep Lake carregado de {DEEPLAKE_DATASET_PATH} com {len(ds_deeplake)} amostras.\")\n",
    "# else:\n",
    "#     ds_deeplake = None\n",
    "#     print(f\"ERRO: Dataset Deep Lake não encontrado em {DEEPLAKE_DATASET_PATH}\")\n",
    "\n",
    "# # Verificações para garantir que os dados foram carregados antes de prosseguir\n",
    "# if not original_files:\n",
    "#     raise ValueError(\"A variável 'original_files' não foi carregada ou está vazia! Verifique o código de carregamento.\")\n",
    "# if not ds_deeplake:\n",
    "#     raise ValueError(\"A variável 'ds_deeplake' não foi carregada ou está vazia! Verifique o código de carregamento.\")\n",
    "\n",
    "\n",
    "# --- TESTES PARA O DATASET ORIGINAL (PNG) ---\n",
    "print(\"=\"*50)\n",
    "print(\"INICIANDO BLOCO DE TESTES PARA O DATASET ORIGINAL (PNG)\")\n",
    "print(\"=\"*50)\n",
    "# Descomente a linha abaixo se quiser a pausa para limpeza manual de cache sudo sh -c 'echo 3 > /proc/sys/vm/drop_caches'\n",
    "input(\">>> Pressione Enter após limpar o cache do SO para iniciar os testes PNG...\")\n",
    "\n",
    "# Certifique-se de que 'original_files' está definida e populada ANTES desta chamada\n",
    "if 'original_files' in locals() and original_files is not None: # Verifica se a variável existe e não é None\n",
    "    resultados_obj_png = benchmark_iteration_modificada(\n",
    "        original_file_list=original_files,\n",
    "        ds_dl=None, \n",
    "        num_to_iterate=TOTAL_SAMPLES, \n",
    "        repetitions=NUM_REPETITIONS_ESTRATEGIA, \n",
    "        is_full_iteration=True,\n",
    "        run_original=True,\n",
    "        run_deeplake=False\n",
    "    )\n",
    "\n",
    "    if \"original_all_rep_times_ms\" in resultados_obj_png and resultados_obj_png[\"original_all_rep_times_ms\"]:\n",
    "        tempos_png_reps = resultados_obj_png[\"original_all_rep_times_ms\"]\n",
    "        print(f\"\\nTempos de cada repetição para PNG (ms): {tempos_png_reps}\")\n",
    "        if len(tempos_png_reps) == NUM_REPETITIONS_ESTRATEGIA:\n",
    "            png_corrida_fria_ms = tempos_png_reps[0]\n",
    "            # Garante que há mais de uma repetição para calcular a média das quentes\n",
    "            if len(tempos_png_reps) > 1:\n",
    "                png_corridas_quentes_avg = np.mean(tempos_png_reps[1:])\n",
    "                png_corridas_quentes_std = np.std(tempos_png_reps[1:])\n",
    "            else: # Caso haja apenas 1 repetição, não há corridas \"quentes\"\n",
    "                png_corridas_quentes_avg = png_corrida_fria_ms # Ou np.nan se preferir\n",
    "                png_corridas_quentes_std = 0 # Ou np.nan\n",
    "            \n",
    "            print(f\"PNG - Corrida 1 (Fria): {png_corrida_fria_ms:.2f} ms\")\n",
    "            if len(tempos_png_reps) > 1:\n",
    "                print(f\"PNG - Média Cache Quente ({NUM_REPETITIONS_ESTRATEGIA-1} reps): {png_corridas_quentes_avg:.2f} ms (± {png_corridas_quentes_std:.2f} ms)\")\n",
    "            \n",
    "            benchmark_resultados_processados[\"png_media_quente_ms\"] = png_corridas_quentes_avg\n",
    "            benchmark_resultados_processados[\"png_std_quente_ms\"] = png_corridas_quentes_std\n",
    "            benchmark_resultados_processados[\"png_corrida_fria_ms\"] = png_corrida_fria_ms\n",
    "    else:\n",
    "        print(\"Não foram encontrados resultados de tempo para PNG ou a lista de tempos está vazia.\")\n",
    "else:\n",
    "    print(\"Variável 'original_files' não definida. Pulando testes PNG.\")\n",
    "\n",
    "\n",
    "# --- TESTES PARA O DATASET DEEP LAKE ---\n",
    "print(\"\\n\" + \"=\"*50)\n",
    "print(\"INICIANDO BLOCO DE TESTES PARA O DATASET DEEP LAKE\")\n",
    "print(\"=\"*50)\n",
    "# Descomente a linha abaixo se quiser a pausa para limpeza manual de cache sudo sh -c 'echo 3 > /proc/sys/vm/drop_caches'\n",
    "input(\">>> Pressione Enter após limpar o cache do SO para iniciar os testes Deep Lake...\")\n",
    "\n",
    "# Certifique-se de que 'ds_deeplake' está definida e populada ANTES desta chamada\n",
    "if 'ds_deeplake' in locals() and ds_deeplake is not None: # Verifica se a variável existe e não é None\n",
    "    resultados_obj_dl = benchmark_iteration_modificada(\n",
    "        original_file_list=None, \n",
    "        ds_dl=ds_deeplake, \n",
    "        num_to_iterate=TOTAL_SAMPLES, \n",
    "        repetitions=NUM_REPETITIONS_ESTRATEGIA, \n",
    "        is_full_iteration=True,\n",
    "        run_original=False,\n",
    "        run_deeplake=True\n",
    "    )\n",
    "\n",
    "    if \"deeplake_all_rep_times_ms\" in resultados_obj_dl and resultados_obj_dl[\"deeplake_all_rep_times_ms\"]:\n",
    "        tempos_dl_reps = resultados_obj_dl[\"deeplake_all_rep_times_ms\"]\n",
    "        print(f\"\\nTempos de cada repetição para Deep Lake (ms): {tempos_dl_reps}\")\n",
    "        if len(tempos_dl_reps) == NUM_REPETITIONS_ESTRATEGIA:\n",
    "            dl_corrida_fria_so_ms = tempos_dl_reps[0]\n",
    "            # Garante que há mais de uma repetição para calcular a média das quentes\n",
    "            if len(tempos_dl_reps) > 1:\n",
    "                dl_corridas_quentes_avg = np.mean(tempos_dl_reps[1:])\n",
    "                dl_corridas_quentes_std = np.std(tempos_dl_reps[1:])\n",
    "            else: # Caso haja apenas 1 repetição\n",
    "                dl_corridas_quentes_avg = dl_corrida_fria_so_ms # Ou np.nan\n",
    "                dl_corridas_quentes_std = 0 # Ou np.nan\n",
    "\n",
    "            print(f\"Deep Lake - Corrida 1 (Cache SO Frio): {dl_corrida_fria_so_ms:.2f} ms\")\n",
    "            if len(tempos_dl_reps) > 1:\n",
    "                print(f\"Deep Lake - Média Cache Quente ({NUM_REPETITIONS_ESTRATEGIA-1} reps): {dl_corridas_quentes_avg:.2f} ms (± {dl_corridas_quentes_std:.2f} ms)\")\n",
    "            \n",
    "            benchmark_resultados_processados[\"dl_media_quente_ms\"] = dl_corridas_quentes_avg\n",
    "            benchmark_resultados_processados[\"dl_std_quente_ms\"] = dl_corridas_quentes_std\n",
    "            benchmark_resultados_processados[\"dl_corrida_fria_so_ms\"] = dl_corrida_fria_so_ms\n",
    "    else:\n",
    "        print(\"Não foram encontrados resultados de tempo para Deep Lake ou a lista de tempos está vazia.\")\n",
    "else:\n",
    "    print(\"Variável 'ds_deeplake' não definida. Pulando testes Deep Lake.\")\n",
    "\n",
    "\n",
    "# --- CÓDIGO PARA SALVAR OS DADOS COLETADOS EM benchmark_resultados_processados EM CSV ---\n",
    "print(\"\\n\" + \"=\"*50)\n",
    "print(\"SALVANDO RESULTADOS PROCESSADOS EM ARQUIVO CSV\")\n",
    "print(\"=\"*50)\n",
    "\n",
    "nome_arquivo_csv_final = \"benchmark_resultados_agregados.csv\"\n",
    "# Define o cabeçalho com base nas chaves que esperamos ter no dicionário\n",
    "# Ou um cabeçalho mais estruturado se você preferir (como Sistema, Metrica, Valor, Std)\n",
    "cabecalho_csv = ['Metrica', 'Valor_ms']\n",
    "\n",
    "try:\n",
    "    with open(nome_arquivo_csv_final, 'w', newline='') as f_csv: # 'w' para criar/sobrescrever\n",
    "        writer = csv.writer(f_csv)\n",
    "        writer.writerow(cabecalho_csv) # Escreve o cabeçalho\n",
    "        \n",
    "        # Itera sobre o dicionário e escreve cada par chave-valor\n",
    "        # Isso criará um CSV com duas colunas: Metrica e Valor_ms\n",
    "        for key, value in benchmark_resultados_processados.items():\n",
    "            # Formata o valor para float com 2 casas decimais se for numérico, senão usa como está\n",
    "            formatted_value = f\"{value:.2f}\" if isinstance(value, (float, np.float64)) else value\n",
    "            writer.writerow([key, formatted_value])\n",
    "            \n",
    "    print(f\"Resultados agregados salvos com sucesso em: {os.path.abspath(nome_arquivo_csv_final)}\")\n",
    "\n",
    "except Exception as e:\n",
    "    print(f\"Ocorreu um erro ao tentar salvar o arquivo CSV: {e}\")\n",
    "    print(\"Verifique se o dicionário 'benchmark_resultados_processados' contém dados.\")\n",
    "    print(\"Conteúdo de 'benchmark_resultados_processados':\", benchmark_resultados_processados)"
   ]
  },
  {
   "cell_type": "code",
   "execution_count": 19,
   "id": "6ee5919d",
   "metadata": {},
   "outputs": [
    {
     "ename": "NameError",
     "evalue": "name 'benchmark_results' is not defined",
     "output_type": "error",
     "traceback": [
      "\u001b[31m---------------------------------------------------------------------------\u001b[39m",
      "\u001b[31mNameError\u001b[39m                                 Traceback (most recent call last)",
      "\u001b[36mCell\u001b[39m\u001b[36m \u001b[39m\u001b[32mIn[19]\u001b[39m\u001b[32m, line 50\u001b[39m\n\u001b[32m     34\u001b[39m \u001b[33;03m\"\"\" # Plot Single Read Results (Average time per sample)\u001b[39;00m\n\u001b[32m     35\u001b[39m \u001b[33;03mplot_benchmark_comparison(\u001b[39;00m\n\u001b[32m     36\u001b[39m \u001b[33;03m    benchmark_results[\"single_read_avg_per_sample_ms\"],\u001b[39;00m\n\u001b[32m   (...)\u001b[39m\u001b[32m     45\u001b[39m \u001b[33;03m    y_label=\"Total Time (ms)\"\u001b[39;00m\n\u001b[32m     46\u001b[39m \u001b[33;03m) \"\"\"\u001b[39;00m\n\u001b[32m     48\u001b[39m \u001b[38;5;66;03m# Plot Full Iteration Results (Total time for all samples)\u001b[39;00m\n\u001b[32m     49\u001b[39m plot_benchmark_comparison(\n\u001b[32m---> \u001b[39m\u001b[32m50\u001b[39m     \u001b[43mbenchmark_results\u001b[49m[\u001b[33m\"\u001b[39m\u001b[33mfull_iteration_total_ms\u001b[39m\u001b[33m\"\u001b[39m],\n\u001b[32m     51\u001b[39m     title=\u001b[33mf\u001b[39m\u001b[33m\"\u001b[39m\u001b[33mTotal Time for Full Dataset Iteration (\u001b[39m\u001b[38;5;132;01m{\u001b[39;00mTOTAL_SAMPLES\u001b[38;5;132;01m}\u001b[39;00m\u001b[33m samples)\u001b[39m\u001b[33m\"\u001b[39m,\n\u001b[32m     52\u001b[39m     y_label=\u001b[33m\"\u001b[39m\u001b[33mTotal Time (ms)\u001b[39m\u001b[33m\"\u001b[39m\n\u001b[32m     53\u001b[39m )\n",
      "\u001b[31mNameError\u001b[39m: name 'benchmark_results' is not defined"
     ]
    }
   ],
   "source": [
    "def plot_benchmark_comparison(results_dict, title, y_label=\"Time (ms)\"):\n",
    "    labels = ['Original Dataset', 'Deep Lake Dataset']\n",
    "    original_avg = results_dict['original_avg_ms'] if 'original_avg_ms' in results_dict else results_dict['original_avg_total_ms']\n",
    "    deeplake_avg = results_dict['deeplake_avg_ms'] if 'deeplake_avg_ms' in results_dict else results_dict['deeplake_avg_total_ms']\n",
    "    \n",
    "    original_std = results_dict.get('original_std_ms', results_dict.get('original_std_total_ms', 0))\n",
    "    deeplake_std = results_dict.get('deeplake_std_ms', results_dict.get('deeplake_std_total_ms', 0))\n",
    "\n",
    "    means = [original_avg, deeplake_avg]\n",
    "    std_devs = [original_std, deeplake_std]\n",
    "    \n",
    "    x = np.arange(len(labels))\n",
    "    width = 0.35\n",
    "    \n",
    "    fig, ax = plt.subplots(figsize=(8,6))\n",
    "    rects = ax.bar(x, means, width, yerr=std_devs, capsize=5, color=['skyblue', 'lightcoral'], label='Average Time')\n",
    "    \n",
    "    ax.set_ylabel(y_label)\n",
    "    ax.set_title(title)\n",
    "    ax.set_xticks(x)\n",
    "    ax.set_xticklabels(labels)\n",
    "    ax.grid(axis='y', linestyle='--', alpha=0.7)\n",
    "    \n",
    "    # Add text labels on bars\n",
    "    for i, rect in enumerate(rects):\n",
    "        height = rect.get_height()\n",
    "        ax.text(rect.get_x() + rect.get_width() / 2., height + 0.01 * max(means) if max(means)>0 else 0.1, # Adjust offset\n",
    "                f\"{height:.2f} ms\\n(±{std_devs[i]:.2f})\",\n",
    "                ha='center', va='bottom', fontsize=9)\n",
    "    \n",
    "    plt.tight_layout()\n",
    "    plt.show()\n",
    "\n",
    "\"\"\" # Plot Single Read Results (Average time per sample)\n",
    "plot_benchmark_comparison(\n",
    "    benchmark_results[\"single_read_avg_per_sample_ms\"],\n",
    "    title=f\"Average Time per Single Random Read ({NUM_SINGLE_READS} samples averaged)\",\n",
    "    y_label=\"Average Time per Sample (ms)\"\n",
    ")\n",
    "\n",
    "# Plot Subset Iteration Results (Total time for the subset)\n",
    "plot_benchmark_comparison(\n",
    "    benchmark_results[\"subset_iteration_total_ms\"],\n",
    "    title=f\"Total Time for Subset Iteration ({ITERATION_SUBSET_SIZE} samples)\",\n",
    "    y_label=\"Total Time (ms)\"\n",
    ") \"\"\"\n",
    "\n",
    "# Plot Full Iteration Results (Total time for all samples)\n",
    "plot_benchmark_comparison(\n",
    "    benchmark_results[\"full_iteration_total_ms\"],\n",
    "    title=f\"Total Time for Full Dataset Iteration ({TOTAL_SAMPLES} samples)\",\n",
    "    y_label=\"Total Time (ms)\"\n",
    ")"
   ]
  },
  {
   "cell_type": "code",
   "execution_count": 3,
   "id": "634f75df",
   "metadata": {},
   "outputs": [
    {
     "data": {
      "image/png": "[encoded data removed]",
      "text/plain": [
       "<Figure size 1000x700 with 1 Axes>"
      ]
     },
     "metadata": {},
     "output_type": "display_data"
    }
   ],
   "source": [
    "import matplotlib.pyplot as plt\n",
    "import numpy as np\n",
    "\n",
    "# 1. DADOS FORNECIDOS\n",
    "# Os dados da sua análise foram organizados em um dicionário.\n",
    "data = {\n",
    "    'png_media_quente_ms': 505596.90,\n",
    "    'png_std_quente_ms': 8170.16,\n",
    "    'png_corrida_fria_ms': 506644.44,\n",
    "    'dl_media_quente_ms': 455272.24,\n",
    "    'dl_std_quente_ms': 1027.63,\n",
    "    'dl_corrida_fria_ms': 457695.68\n",
    "}\n",
    "\n",
    "# 2. ORGANIZAÇÃO DOS DADOS PARA O GRÁFICO\n",
    "# Separamos os dados em listas para facilitar a plotagem.\n",
    "labels = ['PNG Local', 'Deep Lake']\n",
    "cold_start_means = [data['png_corrida_fria_ms'], data['dl_corrida_fria_ms']]\n",
    "hot_start_means = [data['png_media_quente_ms'], data['dl_media_quente_ms']]\n",
    "hot_start_std = [data['png_std_quente_ms'], data['dl_std_quente_ms']]\n",
    "\n",
    "# 3. CONFIGURAÇÃO DAS BARRAS\n",
    "# Define a posição de cada grupo de barras no eixo X e a largura delas.\n",
    "x = np.arange(len(labels))\n",
    "width = 0.35  # Largura das barras\n",
    "\n",
    "# 4. CRIAÇÃO DO GRÁFICO\n",
    "# Inicia a figura e os eixos onde o gráfico será desenhado.\n",
    "fig, ax = plt.subplots(figsize=(10, 7))\n",
    "\n",
    "# Desenha as barras para o teste de \"Partida Fria\"\n",
    "rects1 = ax.bar(x - width/2, cold_start_means, width, label='Partida Fria', color='skyblue')\n",
    "\n",
    "# Desenha as barras para o teste de \"Partida Quente\"\n",
    "# O parâmetro 'yerr' é usado para adicionar as barras de erro com base no desvio padrão.\n",
    "# 'capsize' define o tamanho da pequena linha horizontal no topo da barra de erro.\n",
    "rects2 = ax.bar(x + width/2, hot_start_means, width, label='Partida Quente (Média)', color='salmon', yerr=hot_start_std, capsize=5)\n",
    "\n",
    "# 5. ADIÇÃO DE TÍTULOS, RÓTULOS E LEGENDA\n",
    "ax.set_ylabel('Tempo de Iteração (ms)')\n",
    "ax.set_xticks(x)\n",
    "ax.set_xticklabels(labels)\n",
    "ax.legend()\n",
    "\n",
    "# 6. RÓTULOS DE DADOS\n",
    "# Adiciona o valor numérico exato sobre cada barra para facilitar a leitura.\n",
    "ax.bar_label(rects1, padding=3, fmt='%.0f')\n",
    "ax.bar_label(rects2, padding=3, fmt='%.0f')\n",
    "\n",
    "# 7. ESTÉTICA DO GRÁFICO\n",
    "# Adiciona uma grade horizontal para ajudar na visualização dos valores.\n",
    "ax.yaxis.grid(True, linestyle='--', which='major', color='grey', alpha=.5)\n",
    "\n",
    "# Ajusta o layout para evitar que os elementos se sobreponham.\n",
    "fig.tight_layout()\n",
    "\n",
    "# 8. EXIBIÇÃO DO GRÁFICO\n",
    "# Mostra o gráfico final. Para salvar em um arquivo, você usaria plt.savefig('nome_do_arquivo.png')\n",
    "plt.show()"
   ]
  },
  {
   "cell_type": "code",
   "execution_count": null,
   "id": "ca20b429",
   "metadata": {},
   "outputs": [
    {
     "data": {
      "image/png": "[encoded data removed]",
      "text/plain": [
       "<Figure size 1000x700 with 1 Axes>"
      ]
     },
     "metadata": {},
     "output_type": "display_data"
    }
   ],
   "source": [
    "import matplotlib.pyplot as plt\n",
    "import numpy as np\n",
    "\n",
    "# 1. DADOS FORNECIDOS\n",
    "# Os dados da sua análise foram organizados em um dicionário.\n",
    "data = {\n",
    "    'png_media_quente_ms': 505596.90,\n",
    "    'png_std_quente_ms': 8170.16,\n",
    "    'png_corrida_fria_ms': 506644.44,\n",
    "    'dl_media_quente_ms': 455272.24,\n",
    "    'dl_std_quente_ms': 1027.63,\n",
    "    'dl_corrida_fria_ms': 457695.68\n",
    "}\n",
    "\n",
    "# 2. ORGANIZAÇÃO DOS DADOS PARA O GRÁFICO\n",
    "# Separamos os dados em listas para facilitar a plotagem.\n",
    "labels = ['PNG Local', 'Deep Lake']\n",
    "cold_start_means = [data['png_corrida_fria_ms'], data['dl_corrida_fria_ms']]\n",
    "hot_start_means = [data['png_media_quente_ms'], data['dl_media_quente_ms']]\n",
    "hot_start_std = [data['png_std_quente_ms'], data['dl_std_quente_ms']]\n",
    "\n",
    "# 3. CONFIGURAÇÃO DAS BARRAS\n",
    "# Define a posição de cada grupo de barras no eixo X e a largura delas.\n",
    "x = np.arange(len(labels))\n",
    "width = 0.35  # Largura das barras\n",
    "\n",
    "# 4. CRIAÇÃO DO GRÁFICO\n",
    "# Inicia a figura e os eixos onde o gráfico será desenhado.\n",
    "fig, ax = plt.subplots(figsize=(10, 7))\n",
    "\n",
    "# Desenha as barras para o teste de \"Partida Fria\"\n",
    "rects1 = ax.bar(x - width/2, cold_start_means, width, label='Partida Fria', color='skyblue')\n",
    "\n",
    "# Desenha as barras para o teste de \"Partida Quente\"\n",
    "# O parâmetro 'yerr' é usado para adicionar as barras de erro com base no desvio padrão.\n",
    "# 'capsize' define o tamanho da pequena linha horizontal no topo da barra de erro.\n",
    "rects2 = ax.bar(x + width/2, hot_start_means, width, label='Partida Quente (Média)', color='salmon', yerr=hot_start_std, capsize=5)\n",
    "\n",
    "# 5. ADIÇÃO DE TÍTULOS, RÓTULOS E LEGENDA (com fontes maiores)\n",
    "ax.set_ylabel('Tempo de Iteração (ms)', fontsize=16)\n",
    "ax.set_xticks(x)\n",
    "ax.set_xticklabels(labels, fontsize=14)\n",
    "ax.legend(fontsize=14)\n",
    "\n",
    "# Aumenta fonte dos ticks do eixo Y\n",
    "ax.tick_params(axis='y', labelsize=14)\n",
    "\n",
    "# 6. RÓTULOS DE DADOS\n",
    "# Adiciona o valor numérico exato sobre cada barra para facilitar a leitura.\n",
    "ax.bar_label(rects1, padding=3, fmt='%.0f', fontsize=14)\n",
    "ax.bar_label(rects2, padding=3, fmt='%.0f', fontsize=14)\n",
    "\n",
    "# 7. ESTÉTICA DO GRÁFICO\n",
    "# Adiciona uma grade horizontal para ajudar na visualização dos valores.\n",
    "ax.yaxis.grid(True, linestyle='--', which='major', color='grey', alpha=.5)\n",
    "\n",
    "# Ajusta o layout para evitar que os elementos se sobreponham.\n",
    "fig.tight_layout()\n",
    "\n",
    "# 8. EXIBIÇÃO DO GRÁFICO\n",
    "# Mostra o gráfico final. Para salvar em um arquivo, você usaria plt.savefig('nome_do_arquivo.png')\n",
    "plt.show()"
   ]
  }
 ],
 "metadata": {
  "kernelspec": {
   "display_name": "venv",
   "language": "python",
   "name": "python3"
  },
  "language_info": {
   "codemirror_mode": {
    "name": "ipython",
    "version": 3
   },
   "file_extension": ".py",
   "mimetype": "text/x-python",
   "name": "python",
   "nbconvert_exporter": "python",
   "pygments_lexer": "ipython3",
   "version": "3.11.12"
  }
 },
 "nbformat": 4,
 "nbformat_minor": 5
}
